{
 "cells": [
  {
   "cell_type": "code",
   "execution_count": 1,
   "metadata": {},
   "outputs": [],
   "source": [
    "import numpy as np\n",
    "from scipy.stats import wishart\n",
    "import matplotlib.pyplot as plt"
   ]
  },
  {
   "cell_type": "code",
   "execution_count": 59,
   "metadata": {},
   "outputs": [],
   "source": [
    "COV_SCALE  = 0.001\n",
    "E_MAX = 0.9 # No bound on excentricity\n",
    "\n",
    "n = 1000 # Number of observations\n",
    "p = 2 # Number of variables\n",
    "k = 3 # Number of clusters"
   ]
  },
  {
   "cell_type": "code",
   "execution_count": 14,
   "metadata": {},
   "outputs": [],
   "source": [
    "def shrink_eigvals(m, e_max):\n",
    "    \"\"\"\n",
    "    Shrinks the eigenvalues of matrix m such that excentricity sqrt(1 - lambda_1 / lambda_p) <= e_max.\n",
    "    \n",
    "    \"\"\"\n",
    "    p = m.shape[0]\n",
    "    w, v = np.linalg.eigh(m)\n",
    "    e = np.sqrt(1 - w[0] / w[p-1]) # Excentricity\n",
    "    w_shrunk = w\n",
    "    if e > e_max: # Shrink eigenvalues\n",
    "        w_gap = w[p-1] - w[0]\n",
    "        for i in range(p):\n",
    "            w_shrunk[i] = w[p-1] * (1 - e_max**2 * (w[p-1] - w[i])/w_gap)\n",
    "    \n",
    "    m_shrunk = v.T @ np.diag(w_shrunk) @ v\n",
    "    \n",
    "    return m_shrunk\n",
    "    "
   ]
  },
  {
   "cell_type": "code",
   "execution_count": 15,
   "metadata": {},
   "outputs": [],
   "source": [
    "def generate_params(p, k, cov_scale, e_max=-1):\n",
    "    \n",
    "    # Proportions of each cluster:    \n",
    "    pi = np.random.uniform(0, 1, k)\n",
    "    pi /= pi.sum()  # normalize\n",
    "    \n",
    "    # Mean of each cluster:\n",
    "    mu = np.random.uniform(0, 1, (k, p))\n",
    "    \n",
    "    # Covariance matrices:\n",
    "    A = np.eye(p) * cov_scale\n",
    "    sigma = wishart.rvs(p + 1, A, size=k)\n",
    "    if e_max >= 0:\n",
    "        for j in range(k):\n",
    "            sigma[j] = shrink_eigvals(sigma[j], e_max)\n",
    "    \n",
    "    return pi, mu, sigma"
   ]
  },
  {
   "cell_type": "code",
   "execution_count": 16,
   "metadata": {},
   "outputs": [],
   "source": [
    "def generate_obs(n, p, k, pi, mu, sigma):\n",
    "    \"\"\"\n",
    "    Generates 10k observations from a multivariate Gaussian mixture model.\n",
    "    \n",
    "    \"\"\"    \n",
    "    # Generate n observations from each cluster:\n",
    "    choice = np.random.choice(k, n, p=pi)\n",
    "  \n",
    "    x = np.zeros((n,p))\n",
    "    for i in range(n):\n",
    "        x[i, :] = np.random.multivariate_normal(mu[choice[i]],sigma[choice[i]])\n",
    "        \n",
    "    return x, choice"
   ]
  },
  {
   "cell_type": "code",
   "execution_count": 62,
   "metadata": {},
   "outputs": [
    {
     "name": "stdout",
     "output_type": "stream",
     "text": [
      "[[0.22398799 0.06401963]\n",
      " [0.25131487 0.08116844]\n",
      " [0.31013814 0.11302369]\n",
      " ...\n",
      " [0.91186882 0.35950195]\n",
      " [0.26347959 0.13916061]\n",
      " [0.2970417  0.14046932]]\n"
     ]
    }
   ],
   "source": [
    "pi, mu, sigma = generate_params(p, k, COV_SCALE, E_MAX)\n",
    "x, choice = generate_obs(n, p, k, pi, mu, sigma)\n",
    "#w, v = np.linalg.eigh(sigma[0])\n",
    "\n",
    "print(x)\n",
    "#print(x.nbytes)"
   ]
  },
  {
   "cell_type": "code",
   "execution_count": 70,
   "metadata": {},
   "outputs": [],
   "source": [
    "# Write pi in a file\n",
    "with open('pi_n{}_p{}_k{}_covscale{:.4f}_emax{:.2f}.csv'.format(n, p, k, COV_SCALE, E_MAX), 'w') as file:\n",
    "    for i in range(k):\n",
    "        file.write(\"{:.16f};\".format(pi[i]))"
   ]
  },
  {
   "cell_type": "code",
   "execution_count": 71,
   "metadata": {},
   "outputs": [],
   "source": [
    "# Write mu in a file\n",
    "with open('mu_n{}_p{}_k{}_covscale{:.4f}_emax{:.2f}.csv'.format(n, p, k, COV_SCALE, E_MAX), 'w') as file:\n",
    "    for i in range(k):\n",
    "        for j in range(p):\n",
    "            file.write(\"{:.16f};\".format(mu[i, j]))\n",
    "        file.write(\"\\n\")"
   ]
  },
  {
   "cell_type": "code",
   "execution_count": 72,
   "metadata": {},
   "outputs": [],
   "source": [
    "# Write sigma in a file (flattened array)\n",
    "with open('sigma_n{}_p{}_k{}_covscale{:.4f}_emax{:.2f}.csv'.format(n, p, k, COV_SCALE, E_MAX), 'w') as file:\n",
    "    for i in range(k):\n",
    "        for j1 in range(p):\n",
    "            for j2 in range(p):\n",
    "                file.write(\"{:.16f};\".format(sigma[i, j1, j2]))\n",
    "        file.write(\"\\n\")"
   ]
  },
  {
   "cell_type": "code",
   "execution_count": 73,
   "metadata": {},
   "outputs": [],
   "source": [
    "# Write choices in a file\n",
    "with open('choices_n{}_p{}_k{}_covscale{:.4f}_emax{:.2f}.csv'.format(n, p, k, COV_SCALE, E_MAX), 'w') as file:\n",
    "    for i in range(n):\n",
    "        file.write(\"{};\".format(choice[i]))"
   ]
  },
  {
   "cell_type": "code",
   "execution_count": 74,
   "metadata": {},
   "outputs": [],
   "source": [
    "# Write dataset in a file\n",
    "with open('data_n{}_p{}_k{}_covscale{:.4f}_emax{:.2f}.csv'.format(n, p, k, COV_SCALE, E_MAX), 'w') as file:\n",
    "    for i in range(n):\n",
    "        for j in range(p):\n",
    "            file.write(\"{:.16f};\".format(x[i, j]))\n",
    "        file.write(\"\\n\")"
   ]
  },
  {
   "cell_type": "code",
   "execution_count": 63,
   "metadata": {},
   "outputs": [
    {
     "data": {
      "text/plain": [
       "Text(0.5, 1.0, 'Simulated gausian mixture')"
      ]
     },
     "execution_count": 63,
     "metadata": {},
     "output_type": "execute_result"
    },
    {
     "data": {
      "image/png": "[encoded data removed]",
      "text/plain": [
       "<Figure size 576x576 with 1 Axes>"
      ]
     },
     "metadata": {},
     "output_type": "display_data"
    }
   ],
   "source": [
    "plt.figure(figsize=(8, 8))\n",
    "plt.plot(x[:,0], x[:,1], 'ro')\n",
    "plt.xlabel('x values')\n",
    "plt.ylabel('y values')\n",
    "plt.axis('equal');\n",
    "plt.title(\"Simulated gausian mixture\", fontsize=20)"
   ]
  },
  {
   "cell_type": "code",
   "execution_count": 64,
   "metadata": {},
   "outputs": [
    {
     "name": "stdout",
     "output_type": "stream",
     "text": [
      "[[0.75563529 0.05076578]\n",
      " [0.92610299 0.36594041]\n",
      " [0.25553075 0.12899948]]\n"
     ]
    }
   ],
   "source": [
    "print(mu)"
   ]
  }
 ],
 "metadata": {
  "kernelspec": {
   "display_name": "Python 3",
   "language": "python",
   "name": "python3"
  },
  "language_info": {
   "codemirror_mode": {
    "name": "ipython",
    "version": 3
   },
   "file_extension": ".py",
   "mimetype": "text/x-python",
   "name": "python",
   "nbconvert_exporter": "python",
   "pygments_lexer": "ipython3",
   "version": "3.6.7"
  }
 },
 "nbformat": 4,
 "nbformat_minor": 2
}
