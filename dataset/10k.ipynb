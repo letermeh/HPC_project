{
 "cells": [
  {
   "cell_type": "code",
   "execution_count": 75,
   "metadata": {},
   "outputs": [],
   "source": [
    "import numpy as np\n",
    "from scipy.stats import wishart\n",
    "import matplotlib.pyplot as plt"
   ]
  },
  {
   "cell_type": "code",
   "execution_count": 110,
   "metadata": {},
   "outputs": [],
   "source": [
    "COV_SCALE  = 0.2\n",
    "E_MAX = -1 # No bound on excentricity\n",
    "\n",
    "n = 10000 # Number of observations\n",
    "p = 10 # Number of variables\n",
    "k = 20 # Number of clusters"
   ]
  },
  {
   "cell_type": "code",
   "execution_count": 104,
   "metadata": {},
   "outputs": [],
   "source": [
    "def shrink_eigvals(m, e_max):\n",
    "    \"\"\"\n",
    "    Shrinks the eigenvalues of matrix m such that excentricity sqrt(1 - lambda_1 / lambda_p) <= e_max.\n",
    "    \n",
    "    \"\"\"\n",
    "    p = m.shape[0]\n",
    "    w, v = np.linalg.eigh(m)\n",
    "    e = np.sqrt(1 - w[0] / w[p-1]) # Excentricity\n",
    "    w_shrunk = w\n",
    "    if e > e_max: # Shrink eigenvalues\n",
    "        w_gap = w[p-1] - w[0]\n",
    "        for i in range(p):\n",
    "            w_shrunk[i] = w[p-1] * (1 - e_max**2 * (w[p-1] - w[i])/w_gap)\n",
    "    \n",
    "    m_shrunk = v.T @ np.diag(w_shrunk) @ v\n",
    "    \n",
    "    return m_shrunk\n",
    "    "
   ]
  },
  {
   "cell_type": "code",
   "execution_count": 105,
   "metadata": {},
   "outputs": [],
   "source": [
    "def generate_params(p, k, cov_scale, e_max=-1):\n",
    "    \n",
    "    # Proportions of each cluster:    \n",
    "    pi = np.random.uniform(0, 1, k)\n",
    "    pi /= pi.sum()  # normalize\n",
    "    \n",
    "    # Mean of each cluster:\n",
    "    mu = np.random.uniform(0, 1, (k, p))\n",
    "    \n",
    "    # Covariance matrices:\n",
    "    A = np.eye(p) * cov_scale\n",
    "    sigma = wishart.rvs(p + 1, A, size=k)\n",
    "    if e_max >= 0:\n",
    "        for j in range(k):\n",
    "            sigma[j] = shrink_eigvals(sigma[j], e_max)\n",
    "    \n",
    "    return pi, mu, sigma"
   ]
  },
  {
   "cell_type": "code",
   "execution_count": 128,
   "metadata": {},
   "outputs": [],
   "source": [
    "def generate_obs(n, p, k, pi, mu, sigma):\n",
    "    \"\"\"\n",
    "    Generates 10k observations from a multivariate Gaussian mixture model.\n",
    "    \n",
    "    \"\"\"    \n",
    "    # Generate n observations from each cluster:\n",
    "    choice = np.random.choice(k, n, p=pi)\n",
    "  \n",
    "    x = np.zeros((n,p))\n",
    "    for i in range(n):\n",
    "        x[i, :] = np.random.multivariate_normal(mu[choice[i]],sigma[choice[i]])\n",
    "        \n",
    "    return x, choice"
   ]
  },
  {
   "cell_type": "code",
   "execution_count": 129,
   "metadata": {},
   "outputs": [
    {
     "name": "stdout",
     "output_type": "stream",
     "text": [
      "[[-2.58769579e-02  3.11084016e-01  9.29030065e-01 ...  2.87400043e-01\n",
      "  -1.82736667e+00 -2.39364102e-01]\n",
      " [ 1.75116415e+00  5.63629783e-01  9.95742418e-01 ...  7.83063394e-01\n",
      "  -2.86329129e-01  7.20534993e-01]\n",
      " [-1.60586432e+00 -2.93955962e-01  4.83382976e+00 ... -5.43792854e-04\n",
      "  -9.31414591e-01  2.17328177e+00]\n",
      " ...\n",
      " [ 1.61405870e+00  2.25996003e+00 -7.78891685e-01 ...  1.49058451e+00\n",
      "   2.96761020e+00  3.03158964e+00]\n",
      " [ 4.38410967e-01 -5.05135993e-02 -5.63238676e-01 ... -2.94327504e-01\n",
      "   2.68964352e+00 -2.76366919e-01]\n",
      " [ 2.29319988e+00  8.53191764e-01 -1.38490345e-01 ...  1.72261054e+00\n",
      "   1.67928404e+00  9.48527040e-01]]\n"
     ]
    }
   ],
   "source": [
    "pi, mu, sigma = generate_params(p, k, COV_SCALE, E_MAX)\n",
    "x, choice = generate_obs(n, p, k, pi, mu, sigma)\n",
    "#w, v = np.linalg.eigh(sigma[0])\n",
    "\n",
    "print(x)\n",
    "#print(x.nbytes)"
   ]
  },
  {
   "cell_type": "code",
   "execution_count": 130,
   "metadata": {},
   "outputs": [],
   "source": [
    "# Write pi in a file\n",
    "with open('pi_n{}_p{}_k{}_covscale{:.2f}_emax{:.2f}.csv'.format(n, p, k, COV_SCALE, E_MAX), 'w') as file:\n",
    "    for i in range(k):\n",
    "        file.write(\"{:.16f};\".format(pi[i]))"
   ]
  },
  {
   "cell_type": "code",
   "execution_count": 131,
   "metadata": {},
   "outputs": [],
   "source": [
    "# Write mu in a file\n",
    "with open('mu_n{}_p{}_k{}_covscale{:.2f}_emax{:.2f}.csv'.format(n, p, k, COV_SCALE, E_MAX), 'w') as file:\n",
    "    for i in range(k):\n",
    "        for j in range(p):\n",
    "            file.write(\"{:.16f};\".format(mu[i, j]))\n",
    "        file.write(\"\\n\")"
   ]
  },
  {
   "cell_type": "code",
   "execution_count": 132,
   "metadata": {},
   "outputs": [],
   "source": [
    "# Write sigma in a file (flattened array)\n",
    "with open('sigma_n{}_p{}_k{}_covscale{:.2f}_emax{:.2f}.csv'.format(n, p, k, COV_SCALE, E_MAX), 'w') as file:\n",
    "    for i in range(k):\n",
    "        for j1 in range(p):\n",
    "            for j2 in range(p):\n",
    "                file.write(\"{:.16f};\".format(sigma[i, j1, j2]))\n",
    "        file.write(\"\\n\")"
   ]
  },
  {
   "cell_type": "code",
   "execution_count": 133,
   "metadata": {},
   "outputs": [],
   "source": [
    "# Write choices in a file\n",
    "with open('choices_n{}_p{}_k{}_covscale{:.2f}_emax{:.2f}.csv'.format(n, p, k, COV_SCALE, E_MAX), 'w') as file:\n",
    "    for i in range(n):\n",
    "        file.write(\"{};\".format(choice[i]))"
   ]
  },
  {
   "cell_type": "code",
   "execution_count": 134,
   "metadata": {},
   "outputs": [],
   "source": [
    "# Write dataset in a file\n",
    "with open('data_n{}_p{}_k{}_covscale{:.2f}_emax{:.2f}.csv'.format(n, p, k, COV_SCALE, E_MAX), 'w') as file:\n",
    "    for i in range(n):\n",
    "        for j in range(p):\n",
    "            file.write(\"{:.16f};\".format(x[i, j]))\n",
    "        file.write(\"\\n\")"
   ]
  }
 ],
 "metadata": {
  "kernelspec": {
   "display_name": "Python 3",
   "language": "python",
   "name": "python3"
  },
  "language_info": {
   "codemirror_mode": {
    "name": "ipython",
    "version": 3
   },
   "file_extension": ".py",
   "mimetype": "text/x-python",
   "name": "python",
   "nbconvert_exporter": "python",
   "pygments_lexer": "ipython3",
   "version": "3.6.7"
  }
 },
 "nbformat": 4,
 "nbformat_minor": 2
}
